{
  "nbformat": 4,
  "nbformat_minor": 0,
  "metadata": {
    "colab": {
      "provenance": [],
      "include_colab_link": true
    },
    "kernelspec": {
      "name": "python3",
      "display_name": "Python 3"
    },
    "language_info": {
      "name": "python"
    }
  },
  "cells": [
    {
      "cell_type": "markdown",
      "metadata": {
        "id": "view-in-github",
        "colab_type": "text"
      },
      "source": [
        "<a href=\"https://colab.research.google.com/github/andrepmau/primeiros_passos/blob/main/Imers%C3%A3o_IA_Alura_%2B_Google_Gemini_Aula_05_Agentes.ipynb\" target=\"_parent\"><img src=\"https://colab.research.google.com/assets/colab-badge.svg\" alt=\"Open In Colab\"/></a>"
      ]
    },
    {
      "cell_type": "code",
      "source": [
        "%pip -q install google-genai"
      ],
      "metadata": {
        "id": "UCCbECexLk_h"
      },
      "execution_count": 37,
      "outputs": []
    },
    {
      "cell_type": "code",
      "source": [
        "# Configura a API Key do Google Gemini\n",
        "\n",
        "import os\n",
        "from google.colab import userdata\n",
        "\n",
        "os.environ[\"GOOGLE_API_KEY\"] = userdata.get('GOOGLE_API_KEY')"
      ],
      "metadata": {
        "id": "NfCqHo1tLk8P"
      },
      "execution_count": 38,
      "outputs": []
    },
    {
      "cell_type": "code",
      "source": [
        "# Configura o cliente da SDK do Gemini\n",
        "\n",
        "from google import genai\n",
        "\n",
        "client = genai.Client()\n",
        "\n",
        "MODEL_ID = \"gemini-2.0-flash\""
      ],
      "metadata": {
        "id": "bV4w0H5TLk5g"
      },
      "execution_count": 39,
      "outputs": []
    },
    {
      "cell_type": "code",
      "source": [
        "# Pergunta ao Gemini uma informação mais recente que seu conhecimento\n",
        "\n",
        "from IPython.display import HTML, Markdown\n",
        "\n",
        "# Perguntar pro modelo quando é a próxima imersão de IA ###############################################\n",
        "\n",
        "resposta = client.models.generate_content(\n",
        "    model=MODEL_ID,\n",
        "    contents = \"Quando será a próxima imersão de IA com google gemini da Alura?\",\n",
        ")\n",
        "\n",
        "# Exibe a resposta na tela\n",
        "display(Markdown(f\"Resposta:\\n {resposta.text}\"))"
      ],
      "metadata": {
        "id": "HwVP7Xi34Zuw",
        "colab": {
          "base_uri": "https://localhost:8080/",
          "height": 128
        },
        "outputId": "abb36409-2806-41cb-b0b0-9f9bb8920c7f"
      },
      "execution_count": 40,
      "outputs": [
        {
          "output_type": "display_data",
          "data": {
            "text/plain": [
              "<IPython.core.display.Markdown object>"
            ],
            "text/markdown": "Resposta:\n Para saber quando será a próxima Imersão IA com Google Gemini da Alura, a melhor forma é verificar diretamente nos canais oficiais da Alura:\n\n*   **Site da Alura:** Procure na seção de cursos ou na página de eventos e imersões.\n*   **Redes Sociais da Alura:** Siga a Alura no LinkedIn, Instagram, Twitter (X) e Facebook, pois eles costumam anunciar novidades por lá.\n*   **Comunidade da Alura:** Participe do Discord ou fórum da Alura para ficar por dentro dos anúncios e discussões sobre os cursos.\n\nAssim, você terá a informação mais precisa e atualizada sobre a próxima Imersão IA com Google Gemini."
          },
          "metadata": {}
        }
      ]
    },
    {
      "cell_type": "markdown",
      "source": [
        "esta parte manda o programa procurar na base de dados existente quando será a próxima imersão"
      ],
      "metadata": {
        "id": "db4QNURIKkRa"
      }
    },
    {
      "cell_type": "code",
      "source": [
        "# Pergunta ao Gemini uma informação utilizando a busca do Google como contexto\n",
        "\n",
        "response = client.models.generate_content(\n",
        "    model=MODEL_ID,\n",
        "    contents='Quando é a próxima Imersão IA com Google Gemini da Alura?',\n",
        "    config={\"tools\":[{\"google_search\": {}}]}\n",
        ")\n",
        "\n",
        "# Exibe a resposta na tela\n",
        "display(Markdown(f\"Resposta:\\n {response.text}\"))"
      ],
      "metadata": {
        "id": "yXaZd7iZ4ftw",
        "colab": {
          "base_uri": "https://localhost:8080/",
          "height": 104
        },
        "outputId": "191029f7-0837-4e59-c77a-d667a5613b6d"
      },
      "execution_count": 41,
      "outputs": [
        {
          "output_type": "display_data",
          "data": {
            "text/plain": [
              "<IPython.core.display.Markdown object>"
            ],
            "text/markdown": "Resposta:\n A próxima Imersão IA com Google Gemini da Alura já aconteceu. A mais recente edição teve sua live de abertura em 9 de maio de 2025, e as inscrições ficaram abertas até o dia 11 de maio.\n\nA Imersão IA da Alura em parceria com o Google Gemini é um programa online e gratuito, onde os participantes aprendem a criar prompts, automatizar tarefas e desenvolver sistemas de agentes autônomos usando inteligência artificial. Ao final do curso, os participantes recebem um certificado Alura + Google.\n"
          },
          "metadata": {}
        }
      ]
    },
    {
      "cell_type": "markdown",
      "source": [
        "como a próxima imersão não está na base de dados atual da ferramenta, é o incluir uma pesquisa ao próprio google para obter um resultado mais correto e é isso que esta parte do código fez."
      ],
      "metadata": {
        "id": "gmVhPtVVKrHw"
      }
    },
    {
      "cell_type": "code",
      "source": [
        "# Exibe a busca\n",
        "print(f\"Busca realizada: {response.candidates[0].grounding_metadata.web_search_queries}\")\n",
        "# Exibe as URLs nas quais ele se baseou\n",
        "print(f\"Páginas utilizadas na resposta: {', '.join([site.web.title for site in response.candidates[0].grounding_metadata.grounding_chunks])}\")\n",
        "print()\n",
        "display(HTML(response.candidates[0].grounding_metadata.search_entry_point.rendered_content))"
      ],
      "metadata": {
        "id": "xHSNlTd84heJ",
        "colab": {
          "base_uri": "https://localhost:8080/",
          "height": 117
        },
        "outputId": "b9877023-30f0-44db-d31e-6a7ffced85d2"
      },
      "execution_count": 42,
      "outputs": [
        {
          "output_type": "stream",
          "name": "stdout",
          "text": [
            "Busca realizada: ['próxima Imersão IA com Google Gemini Alura', 'Alura Imersão IA Google Gemini']\n",
            "Páginas utilizadas na resposta: youtube.com, alura.com.br\n",
            "\n"
          ]
        },
        {
          "output_type": "display_data",
          "data": {
            "text/plain": [
              "<IPython.core.display.HTML object>"
            ],
            "text/html": [
              "<style>\n",
              ".container {\n",
              "  align-items: center;\n",
              "  border-radius: 8px;\n",
              "  display: flex;\n",
              "  font-family: Google Sans, Roboto, sans-serif;\n",
              "  font-size: 14px;\n",
              "  line-height: 20px;\n",
              "  padding: 8px 12px;\n",
              "}\n",
              ".chip {\n",
              "  display: inline-block;\n",
              "  border: solid 1px;\n",
              "  border-radius: 16px;\n",
              "  min-width: 14px;\n",
              "  padding: 5px 16px;\n",
              "  text-align: center;\n",
              "  user-select: none;\n",
              "  margin: 0 8px;\n",
              "  -webkit-tap-highlight-color: transparent;\n",
              "}\n",
              ".carousel {\n",
              "  overflow: auto;\n",
              "  scrollbar-width: none;\n",
              "  white-space: nowrap;\n",
              "  margin-right: -12px;\n",
              "}\n",
              ".headline {\n",
              "  display: flex;\n",
              "  margin-right: 4px;\n",
              "}\n",
              ".gradient-container {\n",
              "  position: relative;\n",
              "}\n",
              ".gradient {\n",
              "  position: absolute;\n",
              "  transform: translate(3px, -9px);\n",
              "  height: 36px;\n",
              "  width: 9px;\n",
              "}\n",
              "@media (prefers-color-scheme: light) {\n",
              "  .container {\n",
              "    background-color: #fafafa;\n",
              "    box-shadow: 0 0 0 1px #0000000f;\n",
              "  }\n",
              "  .headline-label {\n",
              "    color: #1f1f1f;\n",
              "  }\n",
              "  .chip {\n",
              "    background-color: #ffffff;\n",
              "    border-color: #d2d2d2;\n",
              "    color: #5e5e5e;\n",
              "    text-decoration: none;\n",
              "  }\n",
              "  .chip:hover {\n",
              "    background-color: #f2f2f2;\n",
              "  }\n",
              "  .chip:focus {\n",
              "    background-color: #f2f2f2;\n",
              "  }\n",
              "  .chip:active {\n",
              "    background-color: #d8d8d8;\n",
              "    border-color: #b6b6b6;\n",
              "  }\n",
              "  .logo-dark {\n",
              "    display: none;\n",
              "  }\n",
              "  .gradient {\n",
              "    background: linear-gradient(90deg, #fafafa 15%, #fafafa00 100%);\n",
              "  }\n",
              "}\n",
              "@media (prefers-color-scheme: dark) {\n",
              "  .container {\n",
              "    background-color: #1f1f1f;\n",
              "    box-shadow: 0 0 0 1px #ffffff26;\n",
              "  }\n",
              "  .headline-label {\n",
              "    color: #fff;\n",
              "  }\n",
              "  .chip {\n",
              "    background-color: #2c2c2c;\n",
              "    border-color: #3c4043;\n",
              "    color: #fff;\n",
              "    text-decoration: none;\n",
              "  }\n",
              "  .chip:hover {\n",
              "    background-color: #353536;\n",
              "  }\n",
              "  .chip:focus {\n",
              "    background-color: #353536;\n",
              "  }\n",
              "  .chip:active {\n",
              "    background-color: #464849;\n",
              "    border-color: #53575b;\n",
              "  }\n",
              "  .logo-light {\n",
              "    display: none;\n",
              "  }\n",
              "  .gradient {\n",
              "    background: linear-gradient(90deg, #1f1f1f 15%, #1f1f1f00 100%);\n",
              "  }\n",
              "}\n",
              "</style>\n",
              "<div class=\"container\">\n",
              "  <div class=\"headline\">\n",
              "    <svg class=\"logo-light\" width=\"18\" height=\"18\" viewBox=\"9 9 35 35\" fill=\"none\" xmlns=\"http://www.w3.org/2000/svg\">\n",
              "      <path fill-rule=\"evenodd\" clip-rule=\"evenodd\" d=\"M42.8622 27.0064C42.8622 25.7839 42.7525 24.6084 42.5487 23.4799H26.3109V30.1568H35.5897C35.1821 32.3041 33.9596 34.1222 32.1258 35.3448V39.6864H37.7213C40.9814 36.677 42.8622 32.2571 42.8622 27.0064V27.0064Z\" fill=\"#4285F4\"/>\n",
              "      <path fill-rule=\"evenodd\" clip-rule=\"evenodd\" d=\"M26.3109 43.8555C30.9659 43.8555 34.8687 42.3195 37.7213 39.6863L32.1258 35.3447C30.5898 36.3792 28.6306 37.0061 26.3109 37.0061C21.8282 37.0061 18.0195 33.9811 16.6559 29.906H10.9194V34.3573C13.7563 39.9841 19.5712 43.8555 26.3109 43.8555V43.8555Z\" fill=\"#34A853\"/>\n",
              "      <path fill-rule=\"evenodd\" clip-rule=\"evenodd\" d=\"M16.6559 29.8904C16.3111 28.8559 16.1074 27.7588 16.1074 26.6146C16.1074 25.4704 16.3111 24.3733 16.6559 23.3388V18.8875H10.9194C9.74388 21.2072 9.06992 23.8247 9.06992 26.6146C9.06992 29.4045 9.74388 32.022 10.9194 34.3417L15.3864 30.8621L16.6559 29.8904V29.8904Z\" fill=\"#FBBC05\"/>\n",
              "      <path fill-rule=\"evenodd\" clip-rule=\"evenodd\" d=\"M26.3109 16.2386C28.85 16.2386 31.107 17.1164 32.9095 18.8091L37.8466 13.8719C34.853 11.082 30.9659 9.3736 26.3109 9.3736C19.5712 9.3736 13.7563 13.245 10.9194 18.8875L16.6559 23.3388C18.0195 19.2636 21.8282 16.2386 26.3109 16.2386V16.2386Z\" fill=\"#EA4335\"/>\n",
              "    </svg>\n",
              "    <svg class=\"logo-dark\" width=\"18\" height=\"18\" viewBox=\"0 0 48 48\" xmlns=\"http://www.w3.org/2000/svg\">\n",
              "      <circle cx=\"24\" cy=\"23\" fill=\"#FFF\" r=\"22\"/>\n",
              "      <path d=\"M33.76 34.26c2.75-2.56 4.49-6.37 4.49-11.26 0-.89-.08-1.84-.29-3H24.01v5.99h8.03c-.4 2.02-1.5 3.56-3.07 4.56v.75l3.91 2.97h.88z\" fill=\"#4285F4\"/>\n",
              "      <path d=\"M15.58 25.77A8.845 8.845 0 0 0 24 31.86c1.92 0 3.62-.46 4.97-1.31l4.79 3.71C31.14 36.7 27.65 38 24 38c-5.93 0-11.01-3.4-13.45-8.36l.17-1.01 4.06-2.85h.8z\" fill=\"#34A853\"/>\n",
              "      <path d=\"M15.59 20.21a8.864 8.864 0 0 0 0 5.58l-5.03 3.86c-.98-2-1.53-4.25-1.53-6.64 0-2.39.55-4.64 1.53-6.64l1-.22 3.81 2.98.22 1.08z\" fill=\"#FBBC05\"/>\n",
              "      <path d=\"M24 14.14c2.11 0 4.02.75 5.52 1.98l4.36-4.36C31.22 9.43 27.81 8 24 8c-5.93 0-11.01 3.4-13.45 8.36l5.03 3.85A8.86 8.86 0 0 1 24 14.14z\" fill=\"#EA4335\"/>\n",
              "    </svg>\n",
              "    <div class=\"gradient-container\"><div class=\"gradient\"></div></div>\n",
              "  </div>\n",
              "  <div class=\"carousel\">\n",
              "    <a class=\"chip\" href=\"https://vertexaisearch.cloud.google.com/grounding-api-redirect/AbF9wXGE_qo8gtqNW7pgr6stMZMWjoeugoVz9XMwGKrCCeSgurnYfZtTWnqg1S7kZNaE6WU4gy9RxivwK_dAJ9JU4573ExFXAuwKpW_PIVfpZZRjoXKUgNjuPMglyuMv7MqmxKq73dQr3HQ3G8pWjTO9i-sY1LHr1ZueiDpl3K8bSTUIuz98qBPq-ejkGmU8o6kWFyYo2jjABWnElW1QTYGiQHCrlo_tB2Q=\">Alura Imersão IA Google Gemini</a>\n",
              "    <a class=\"chip\" href=\"https://vertexaisearch.cloud.google.com/grounding-api-redirect/AbF9wXFRPoakdUC4fI0-Y79vUJ-ALYgkfHLUxIZ7NfSj26fuUEblC4OkvFI5OfI-IJduGae1jd60juB7fg2CS7vtEaa9Y8vZiFmD6Ff3uB0UO3Eyql2dl3rRkKxlmoUDzcKf5WffWknITUI06wEkNbTQFoGDsmT7BWC0bSeXdhXEw8J5iaPU3XZcZ_VlGQWH5UxcBVoymaSMEg1zwe4TVn544MNW7tmf8v2ySKgVAoajxc2W-pdODykOxAU=\">próxima Imersão IA com Google Gemini Alura</a>\n",
              "  </div>\n",
              "</div>\n"
            ]
          },
          "metadata": {}
        }
      ]
    },
    {
      "cell_type": "markdown",
      "source": [
        "esta parte apenas cria esse botão abaixo para \"confirmar\" a pesquisa diretamente no google"
      ],
      "metadata": {
        "id": "qA8CaCsjKd0P"
      }
    },
    {
      "cell_type": "code",
      "source": [
        "# Instalar Framework ADK de agentes do Google ################################################\n",
        "%pip install google-adk"
      ],
      "metadata": {
        "id": "hvZ3UnPI4jhJ",
        "colab": {
          "base_uri": "https://localhost:8080/"
        },
        "outputId": "1d8752b6-e5b5-4262-ded9-2e24587e4db6"
      },
      "execution_count": 43,
      "outputs": [
        {
          "output_type": "stream",
          "name": "stdout",
          "text": [
            "Requirement already satisfied: google-adk in /usr/local/lib/python3.11/dist-packages (0.5.0)\n",
            "Requirement already satisfied: authlib>=1.5.1 in /usr/local/lib/python3.11/dist-packages (from google-adk) (1.5.2)\n",
            "Requirement already satisfied: click>=8.1.8 in /usr/local/lib/python3.11/dist-packages (from google-adk) (8.2.0)\n",
            "Requirement already satisfied: fastapi>=0.115.0 in /usr/local/lib/python3.11/dist-packages (from google-adk) (0.115.12)\n",
            "Requirement already satisfied: google-api-python-client>=2.157.0 in /usr/local/lib/python3.11/dist-packages (from google-adk) (2.169.0)\n",
            "Requirement already satisfied: google-cloud-aiplatform>=1.87.0 in /usr/local/lib/python3.11/dist-packages (from google-adk) (1.92.0)\n",
            "Requirement already satisfied: google-cloud-secret-manager>=2.22.0 in /usr/local/lib/python3.11/dist-packages (from google-adk) (2.23.3)\n",
            "Requirement already satisfied: google-cloud-speech>=2.30.0 in /usr/local/lib/python3.11/dist-packages (from google-adk) (2.32.0)\n",
            "Requirement already satisfied: google-cloud-storage<3.0.0,>=2.18.0 in /usr/local/lib/python3.11/dist-packages (from google-adk) (2.19.0)\n",
            "Requirement already satisfied: google-genai>=1.12.1 in /usr/local/lib/python3.11/dist-packages (from google-adk) (1.15.0)\n",
            "Requirement already satisfied: graphviz>=0.20.2 in /usr/local/lib/python3.11/dist-packages (from google-adk) (0.20.3)\n",
            "Requirement already satisfied: mcp>=1.5.0 in /usr/local/lib/python3.11/dist-packages (from google-adk) (1.9.0)\n",
            "Requirement already satisfied: opentelemetry-api>=1.31.0 in /usr/local/lib/python3.11/dist-packages (from google-adk) (1.33.0)\n",
            "Requirement already satisfied: opentelemetry-exporter-gcp-trace>=1.9.0 in /usr/local/lib/python3.11/dist-packages (from google-adk) (1.9.0)\n",
            "Requirement already satisfied: opentelemetry-sdk>=1.31.0 in /usr/local/lib/python3.11/dist-packages (from google-adk) (1.33.0)\n",
            "Requirement already satisfied: pydantic<3.0.0,>=2.0 in /usr/local/lib/python3.11/dist-packages (from google-adk) (2.11.4)\n",
            "Requirement already satisfied: python-dotenv>=1.0.0 in /usr/local/lib/python3.11/dist-packages (from google-adk) (1.1.0)\n",
            "Requirement already satisfied: PyYAML>=6.0.2 in /usr/local/lib/python3.11/dist-packages (from google-adk) (6.0.2)\n",
            "Requirement already satisfied: sqlalchemy>=2.0 in /usr/local/lib/python3.11/dist-packages (from google-adk) (2.0.40)\n",
            "Requirement already satisfied: tzlocal>=5.3 in /usr/local/lib/python3.11/dist-packages (from google-adk) (5.3.1)\n",
            "Requirement already satisfied: uvicorn>=0.34.0 in /usr/local/lib/python3.11/dist-packages (from google-adk) (0.34.2)\n",
            "Requirement already satisfied: cryptography in /usr/local/lib/python3.11/dist-packages (from authlib>=1.5.1->google-adk) (43.0.3)\n",
            "Requirement already satisfied: starlette<0.47.0,>=0.40.0 in /usr/local/lib/python3.11/dist-packages (from fastapi>=0.115.0->google-adk) (0.46.2)\n",
            "Requirement already satisfied: typing-extensions>=4.8.0 in /usr/local/lib/python3.11/dist-packages (from fastapi>=0.115.0->google-adk) (4.13.2)\n",
            "Requirement already satisfied: httplib2<1.0.0,>=0.19.0 in /usr/local/lib/python3.11/dist-packages (from google-api-python-client>=2.157.0->google-adk) (0.22.0)\n",
            "Requirement already satisfied: google-auth!=2.24.0,!=2.25.0,<3.0.0,>=1.32.0 in /usr/local/lib/python3.11/dist-packages (from google-api-python-client>=2.157.0->google-adk) (2.38.0)\n",
            "Requirement already satisfied: google-auth-httplib2<1.0.0,>=0.2.0 in /usr/local/lib/python3.11/dist-packages (from google-api-python-client>=2.157.0->google-adk) (0.2.0)\n",
            "Requirement already satisfied: google-api-core!=2.0.*,!=2.1.*,!=2.2.*,!=2.3.0,<3.0.0,>=1.31.5 in /usr/local/lib/python3.11/dist-packages (from google-api-python-client>=2.157.0->google-adk) (2.24.2)\n",
            "Requirement already satisfied: uritemplate<5,>=3.0.1 in /usr/local/lib/python3.11/dist-packages (from google-api-python-client>=2.157.0->google-adk) (4.1.1)\n",
            "Requirement already satisfied: proto-plus<2.0.0,>=1.22.3 in /usr/local/lib/python3.11/dist-packages (from google-cloud-aiplatform>=1.87.0->google-adk) (1.26.1)\n",
            "Requirement already satisfied: protobuf!=4.21.0,!=4.21.1,!=4.21.2,!=4.21.3,!=4.21.4,!=4.21.5,<7.0.0,>=3.20.2 in /usr/local/lib/python3.11/dist-packages (from google-cloud-aiplatform>=1.87.0->google-adk) (5.29.4)\n",
            "Requirement already satisfied: packaging>=14.3 in /usr/local/lib/python3.11/dist-packages (from google-cloud-aiplatform>=1.87.0->google-adk) (24.2)\n",
            "Requirement already satisfied: google-cloud-bigquery!=3.20.0,<4.0.0,>=1.15.0 in /usr/local/lib/python3.11/dist-packages (from google-cloud-aiplatform>=1.87.0->google-adk) (3.32.0)\n",
            "Requirement already satisfied: google-cloud-resource-manager<3.0.0,>=1.3.3 in /usr/local/lib/python3.11/dist-packages (from google-cloud-aiplatform>=1.87.0->google-adk) (1.14.2)\n",
            "Requirement already satisfied: shapely<3.0.0 in /usr/local/lib/python3.11/dist-packages (from google-cloud-aiplatform>=1.87.0->google-adk) (2.1.0)\n",
            "Requirement already satisfied: docstring-parser<1 in /usr/local/lib/python3.11/dist-packages (from google-cloud-aiplatform>=1.87.0->google-adk) (0.16)\n",
            "Requirement already satisfied: grpc-google-iam-v1<1.0.0,>=0.14.0 in /usr/local/lib/python3.11/dist-packages (from google-cloud-secret-manager>=2.22.0->google-adk) (0.14.2)\n",
            "Requirement already satisfied: google-cloud-core<3.0dev,>=2.3.0 in /usr/local/lib/python3.11/dist-packages (from google-cloud-storage<3.0.0,>=2.18.0->google-adk) (2.4.3)\n",
            "Requirement already satisfied: google-resumable-media>=2.7.2 in /usr/local/lib/python3.11/dist-packages (from google-cloud-storage<3.0.0,>=2.18.0->google-adk) (2.7.2)\n",
            "Requirement already satisfied: requests<3.0.0dev,>=2.18.0 in /usr/local/lib/python3.11/dist-packages (from google-cloud-storage<3.0.0,>=2.18.0->google-adk) (2.32.3)\n",
            "Requirement already satisfied: google-crc32c<2.0dev,>=1.0 in /usr/local/lib/python3.11/dist-packages (from google-cloud-storage<3.0.0,>=2.18.0->google-adk) (1.7.1)\n",
            "Requirement already satisfied: anyio<5.0.0,>=4.8.0 in /usr/local/lib/python3.11/dist-packages (from google-genai>=1.12.1->google-adk) (4.9.0)\n",
            "Requirement already satisfied: httpx<1.0.0,>=0.28.1 in /usr/local/lib/python3.11/dist-packages (from google-genai>=1.12.1->google-adk) (0.28.1)\n",
            "Requirement already satisfied: websockets<15.1.0,>=13.0.0 in /usr/local/lib/python3.11/dist-packages (from google-genai>=1.12.1->google-adk) (15.0.1)\n",
            "Requirement already satisfied: httpx-sse>=0.4 in /usr/local/lib/python3.11/dist-packages (from mcp>=1.5.0->google-adk) (0.4.0)\n",
            "Requirement already satisfied: pydantic-settings>=2.5.2 in /usr/local/lib/python3.11/dist-packages (from mcp>=1.5.0->google-adk) (2.9.1)\n",
            "Requirement already satisfied: python-multipart>=0.0.9 in /usr/local/lib/python3.11/dist-packages (from mcp>=1.5.0->google-adk) (0.0.20)\n",
            "Requirement already satisfied: sse-starlette>=1.6.1 in /usr/local/lib/python3.11/dist-packages (from mcp>=1.5.0->google-adk) (2.3.5)\n",
            "Requirement already satisfied: deprecated>=1.2.6 in /usr/local/lib/python3.11/dist-packages (from opentelemetry-api>=1.31.0->google-adk) (1.2.18)\n",
            "Requirement already satisfied: importlib-metadata<8.7.0,>=6.0 in /usr/local/lib/python3.11/dist-packages (from opentelemetry-api>=1.31.0->google-adk) (8.6.1)\n",
            "Requirement already satisfied: google-cloud-trace~=1.1 in /usr/local/lib/python3.11/dist-packages (from opentelemetry-exporter-gcp-trace>=1.9.0->google-adk) (1.16.1)\n",
            "Requirement already satisfied: opentelemetry-resourcedetector-gcp==1.*,>=1.5.0dev0 in /usr/local/lib/python3.11/dist-packages (from opentelemetry-exporter-gcp-trace>=1.9.0->google-adk) (1.9.0a0)\n",
            "Requirement already satisfied: opentelemetry-semantic-conventions==0.54b0 in /usr/local/lib/python3.11/dist-packages (from opentelemetry-sdk>=1.31.0->google-adk) (0.54b0)\n",
            "Requirement already satisfied: annotated-types>=0.6.0 in /usr/local/lib/python3.11/dist-packages (from pydantic<3.0.0,>=2.0->google-adk) (0.7.0)\n",
            "Requirement already satisfied: pydantic-core==2.33.2 in /usr/local/lib/python3.11/dist-packages (from pydantic<3.0.0,>=2.0->google-adk) (2.33.2)\n",
            "Requirement already satisfied: typing-inspection>=0.4.0 in /usr/local/lib/python3.11/dist-packages (from pydantic<3.0.0,>=2.0->google-adk) (0.4.0)\n",
            "Requirement already satisfied: greenlet>=1 in /usr/local/lib/python3.11/dist-packages (from sqlalchemy>=2.0->google-adk) (3.2.2)\n",
            "Requirement already satisfied: h11>=0.8 in /usr/local/lib/python3.11/dist-packages (from uvicorn>=0.34.0->google-adk) (0.16.0)\n",
            "Requirement already satisfied: idna>=2.8 in /usr/local/lib/python3.11/dist-packages (from anyio<5.0.0,>=4.8.0->google-genai>=1.12.1->google-adk) (3.10)\n",
            "Requirement already satisfied: sniffio>=1.1 in /usr/local/lib/python3.11/dist-packages (from anyio<5.0.0,>=4.8.0->google-genai>=1.12.1->google-adk) (1.3.1)\n",
            "Requirement already satisfied: wrapt<2,>=1.10 in /usr/local/lib/python3.11/dist-packages (from deprecated>=1.2.6->opentelemetry-api>=1.31.0->google-adk) (1.17.2)\n",
            "Requirement already satisfied: googleapis-common-protos<2.0.0,>=1.56.2 in /usr/local/lib/python3.11/dist-packages (from google-api-core!=2.0.*,!=2.1.*,!=2.2.*,!=2.3.0,<3.0.0,>=1.31.5->google-api-python-client>=2.157.0->google-adk) (1.70.0)\n",
            "Requirement already satisfied: grpcio<2.0dev,>=1.33.2 in /usr/local/lib/python3.11/dist-packages (from google-api-core[grpc]!=2.0.*,!=2.1.*,!=2.2.*,!=2.3.*,!=2.4.*,!=2.5.*,!=2.6.*,!=2.7.*,<3.0.0,>=1.34.1->google-cloud-aiplatform>=1.87.0->google-adk) (1.71.0)\n",
            "Requirement already satisfied: grpcio-status<2.0.dev0,>=1.33.2 in /usr/local/lib/python3.11/dist-packages (from google-api-core[grpc]!=2.0.*,!=2.1.*,!=2.2.*,!=2.3.*,!=2.4.*,!=2.5.*,!=2.6.*,!=2.7.*,<3.0.0,>=1.34.1->google-cloud-aiplatform>=1.87.0->google-adk) (1.71.0)\n",
            "Requirement already satisfied: cachetools<6.0,>=2.0.0 in /usr/local/lib/python3.11/dist-packages (from google-auth!=2.24.0,!=2.25.0,<3.0.0,>=1.32.0->google-api-python-client>=2.157.0->google-adk) (5.5.2)\n",
            "Requirement already satisfied: pyasn1-modules>=0.2.1 in /usr/local/lib/python3.11/dist-packages (from google-auth!=2.24.0,!=2.25.0,<3.0.0,>=1.32.0->google-api-python-client>=2.157.0->google-adk) (0.4.2)\n",
            "Requirement already satisfied: rsa<5,>=3.1.4 in /usr/local/lib/python3.11/dist-packages (from google-auth!=2.24.0,!=2.25.0,<3.0.0,>=1.32.0->google-api-python-client>=2.157.0->google-adk) (4.9.1)\n",
            "Requirement already satisfied: python-dateutil<3.0.0,>=2.8.2 in /usr/local/lib/python3.11/dist-packages (from google-cloud-bigquery!=3.20.0,<4.0.0,>=1.15.0->google-cloud-aiplatform>=1.87.0->google-adk) (2.9.0.post0)\n",
            "Requirement already satisfied: pyparsing!=3.0.0,!=3.0.1,!=3.0.2,!=3.0.3,<4,>=2.4.2 in /usr/local/lib/python3.11/dist-packages (from httplib2<1.0.0,>=0.19.0->google-api-python-client>=2.157.0->google-adk) (3.2.3)\n",
            "Requirement already satisfied: certifi in /usr/local/lib/python3.11/dist-packages (from httpx<1.0.0,>=0.28.1->google-genai>=1.12.1->google-adk) (2025.4.26)\n",
            "Requirement already satisfied: httpcore==1.* in /usr/local/lib/python3.11/dist-packages (from httpx<1.0.0,>=0.28.1->google-genai>=1.12.1->google-adk) (1.0.9)\n",
            "Requirement already satisfied: zipp>=3.20 in /usr/local/lib/python3.11/dist-packages (from importlib-metadata<8.7.0,>=6.0->opentelemetry-api>=1.31.0->google-adk) (3.21.0)\n",
            "Requirement already satisfied: charset-normalizer<4,>=2 in /usr/local/lib/python3.11/dist-packages (from requests<3.0.0dev,>=2.18.0->google-cloud-storage<3.0.0,>=2.18.0->google-adk) (3.4.2)\n",
            "Requirement already satisfied: urllib3<3,>=1.21.1 in /usr/local/lib/python3.11/dist-packages (from requests<3.0.0dev,>=2.18.0->google-cloud-storage<3.0.0,>=2.18.0->google-adk) (2.4.0)\n",
            "Requirement already satisfied: numpy>=1.21 in /usr/local/lib/python3.11/dist-packages (from shapely<3.0.0->google-cloud-aiplatform>=1.87.0->google-adk) (2.0.2)\n",
            "Requirement already satisfied: cffi>=1.12 in /usr/local/lib/python3.11/dist-packages (from cryptography->authlib>=1.5.1->google-adk) (1.17.1)\n",
            "Requirement already satisfied: pycparser in /usr/local/lib/python3.11/dist-packages (from cffi>=1.12->cryptography->authlib>=1.5.1->google-adk) (2.22)\n",
            "Requirement already satisfied: pyasn1<0.7.0,>=0.6.1 in /usr/local/lib/python3.11/dist-packages (from pyasn1-modules>=0.2.1->google-auth!=2.24.0,!=2.25.0,<3.0.0,>=1.32.0->google-api-python-client>=2.157.0->google-adk) (0.6.1)\n",
            "Requirement already satisfied: six>=1.5 in /usr/local/lib/python3.11/dist-packages (from python-dateutil<3.0.0,>=2.8.2->google-cloud-bigquery!=3.20.0,<4.0.0,>=1.15.0->google-cloud-aiplatform>=1.87.0->google-adk) (1.17.0)\n"
          ]
        }
      ]
    },
    {
      "cell_type": "markdown",
      "source": [
        "instalou o adk do google\n",
        "se utilizasse a linha\n",
        "%pip install -q google-adk\n",
        "não apareceriam tantas linhas de execução, ficando apenas o final com a lista dos ip\n"
      ],
      "metadata": {
        "id": "ZFNWkFPYNCcz"
      }
    },
    {
      "cell_type": "code",
      "execution_count": 44,
      "metadata": {
        "id": "aePV2bdfDeoW"
      },
      "outputs": [],
      "source": [
        "from google.adk.agents import Agent\n",
        "from google.adk.runners import Runner\n",
        "from google.adk.sessions import InMemorySessionService\n",
        "from google.adk.tools import google_search\n",
        "from google.genai import types  # Para criar conteúdos (Content e Part)\n",
        "from datetime import date\n",
        "import textwrap # Para formatar melhor a saída de texto\n",
        "from IPython.display import display, Markdown # Para exibir texto formatado no Colab\n",
        "import requests # Para fazer requisições HTTP\n",
        "import warnings\n",
        "\n",
        "warnings.filterwarnings(\"ignore\")"
      ]
    },
    {
      "cell_type": "markdown",
      "source": [
        "código para declarar variáveis, chamar comandos e organizar textos."
      ],
      "metadata": {
        "id": "MjFIjpXQNioO"
      }
    },
    {
      "cell_type": "markdown",
      "source": [],
      "metadata": {
        "id": "BFL6H1cUNBOu"
      }
    },
    {
      "cell_type": "code",
      "source": [
        "# Função auxiliar que envia uma mensagem para um agente via Runner e retorna a resposta final\n",
        "def call_agent(agent: Agent, message_text: str) -> str:\n",
        "    # Cria um serviço de sessão em memória\n",
        "    session_service = InMemorySessionService()\n",
        "    # Cria uma nova sessão (você pode personalizar os IDs conforme necessário)\n",
        "    session = session_service.create_session(app_name=agent.name, user_id=\"user1\", session_id=\"session1\")\n",
        "    # Cria um Runner para o agente\n",
        "    runner = Runner(agent=agent, app_name=agent.name, session_service=session_service)\n",
        "    # Cria o conteúdo da mensagem de entrada\n",
        "    content = types.Content(role=\"user\", parts=[types.Part(text=message_text)])\n",
        "\n",
        "    final_response = \"\"\n",
        "    # Itera assincronamente pelos eventos retornados durante a execução do agente\n",
        "    for event in runner.run(user_id=\"user1\", session_id=\"session1\", new_message=content):\n",
        "        if event.is_final_response():\n",
        "          for part in event.content.parts:\n",
        "            if part.text is not None:\n",
        "              final_response += part.text\n",
        "              final_response += \"\\n\"\n",
        "    return final_response"
      ],
      "metadata": {
        "id": "_xP4lWhsS5ko"
      },
      "execution_count": 45,
      "outputs": []
    },
    {
      "cell_type": "markdown",
      "source": [
        "código que não mostraram para que serve... executar e pronto"
      ],
      "metadata": {
        "id": "-eJiv_jyNrWM"
      }
    },
    {
      "cell_type": "code",
      "source": [
        "# Função auxiliar para exibir texto formatado em Markdown no Colab\n",
        "def to_markdown(text):\n",
        "  text = text.replace('•', '  *')\n",
        "  return Markdown(textwrap.indent(text, '> ', predicate=lambda _: True))"
      ],
      "metadata": {
        "id": "8dosiodaxfFR"
      },
      "execution_count": 46,
      "outputs": []
    },
    {
      "cell_type": "markdown",
      "source": [
        "outra parte de código apenas para exibição"
      ],
      "metadata": {
        "id": "sYXLQtAaOEEB"
      }
    },
    {
      "cell_type": "code",
      "source": [
        "##########################################\n",
        "# --- Agente 1: Buscador de Notícias --- #\n",
        "##########################################\n",
        "\n",
        "def agente_buscador(topico, data_de_hoje):\n",
        "    buscador = Agent(\n",
        "        name=\"agente_buscador\",\n",
        "        model= \"gemini-2.0-flash\",\n",
        "        description=\"Agente que busca informações no Google\",\n",
        "        tools=[google_search],\n",
        "        instruction=\"\"\"\n",
        "        Você é um assistente de pesquisa. Sua tarefa á usar a ferramenta de busca do goole (google_search)\n",
        "        para recuperar as últimas notícias de lançamentos muito relevantes sobre o tópico abaixo.\n",
        "        Fique em no máximo 5 lançamentos relevantes, com base na quantidade e no entusiamos das notícias sobre ele.\n",
        "        Se o tema tiver poucas notíticas ou reações entusiasmadas, é possível que ele não seja tão relevante assim e pode\n",
        "        ser substituído por outro que tenha mais.\n",
        "        Esses lançamentos relevantes devem ser atuais, de no máximo um mês antes da data de hoje.\n",
        "        \"\"\"\n",
        "    )\n",
        "\n",
        "    entrada_do_agente_buscador = f\"Tópico: {topico}\\nData de hoje: {data_de_hoje}\"\n",
        "    lancamentos = call_agent(buscador, entrada_do_agente_buscador)\n",
        "    return lancamentos\n",
        "\n",
        "\n",
        "    # Executa o agente"
      ],
      "metadata": {
        "id": "o8bqIfi_DyH8"
      },
      "execution_count": 47,
      "outputs": []
    },
    {
      "cell_type": "code",
      "source": [
        "################################################\n",
        "# --- Agente 2: Planejador de posts --- #\n",
        "################################################\n",
        "def agente_planejador(topico, lancamentos_buscados):\n",
        "    planejador = Agent(\n",
        "        name=\"agente_planejador\",\n",
        "        model=\"gemini-2.0-flash\",\n",
        "        # Inserir as instruções do Agente Planejador #################################################\n",
        "        instruction=\"\"\"\n",
        "        Você é um planejador de conteúdo, especialista em redes sociais. Com base na lista de\n",
        "        lançamentos mais recentes e relevantes buscados, você deve:\n",
        "        usar a ferramentda de busca do google (googe_search) para criar um plano de sobre quais são os pontos\n",
        "        mais relevantes que poderíamos abordar em um post sobre cada um deles. Você também por usar o google (google_search) para encontrar mais informações\n",
        "        sobre os temas e aprofundar.\n",
        "        Ao final, você irá escolher o tema mais relevante entre eles com base nas suas pesquisas e\n",
        "        retornar esse tema, seus pontos mais relevantes, e um plano com os assuntos a serem abordados no post que será escrito posteriormente.\n",
        "        \"\"\",\n",
        "        description=\"Agente que planeja posts\",\n",
        "        tools=[google_search]\n",
        "    )\n",
        "\n",
        "    entrada_do_agente_planejador = f\"Tópico:{topico}\\nLançamentos buscados: {lancamentos_buscados}\"\n",
        "    # Executa o agente\n",
        "    plano_do_post = call_agent(planejador, entrada_do_agente_planejador)\n",
        "    return plano_do_post"
      ],
      "metadata": {
        "id": "y3VO1uo5_ghO"
      },
      "execution_count": 48,
      "outputs": []
    },
    {
      "cell_type": "code",
      "source": [
        "######################################\n",
        "# --- Agente 3: Redator do Post --- #\n",
        "######################################\n",
        "def agente_redator(topico, plano_de_post):\n",
        "    redator = Agent(\n",
        "        name=\"agente_redator\",\n",
        "        model=\"gemini-2.0-flash\",\n",
        "        instruction=\"\"\"\n",
        "            Você é um Redator Criativo especializado em criar posts virais para redes sociais.\n",
        "            Você escreve posts para a empresa Alura, a maior escola online de tecnologia do Brasil.\n",
        "            Utilize o tema fornecido no plano de post e os pontos mais relevantes fornecidos e, com base nisso,\n",
        "            escreva um rascunho de post para Instagram sobre o tema indicado.\n",
        "            O post deve ser engajador, informativo, com linguagem simples e incluir 2 a 4 hashtags no final.\n",
        "            \"\"\",\n",
        "        description=\"Agente redator de posts engajadores para Instagram\"\n",
        "    )\n",
        "    entrada_do_agente_redator = f\"Tópico: {topico}\\nPlano de post: {plano_de_post}\"\n",
        "    # Executa o agente\n",
        "    rascunho = call_agent(redator, entrada_do_agente_redator)\n",
        "    return rascunho"
      ],
      "metadata": {
        "id": "uOqlg2TRLVh1"
      },
      "execution_count": 49,
      "outputs": []
    },
    {
      "cell_type": "code",
      "source": [
        "##########################################\n",
        "# --- Agente 4: Revisor de Qualidade --- #\n",
        "##########################################\n",
        "def agente_revisor(topico, rascunho_gerado):\n",
        "    revisor = Agent(\n",
        "        name=\"agente_revisor\",\n",
        "        model=\"gemini-2.0-flash\",\n",
        "        instruction=\"\"\"\n",
        "            Você é um Editor e Revisor de Conteúdo meticuloso, especializado em posts para redes sociais, com foco no Instagram.\n",
        "            Por ter um público jovem, entre 18 e 30 anos, use um tom de escrita adequado.\n",
        "            Revise o rascunho de post de Instagram abaixo sobre o tópico indicado, verificando clareza, concisão, correção e tom.\n",
        "            Se o rascunho estiver bom, responda apenas 'O rascunho está ótimo e pronto para publicar!'.\n",
        "            Caso haja problemas, aponte-os e sugira melhorias.\n",
        "            \"\"\",\n",
        "        description=\"Agente revisor de post para redes sociais.\"\n",
        "    )\n",
        "    entrada_do_agente_revisor = f\"Tópico: {topico}\\nRascunho: {rascunho_gerado}\"\n",
        "    # Executa o agente\n",
        "    texto_revisado = call_agent(revisor, entrada_do_agente_revisor)\n",
        "    return texto_revisado"
      ],
      "metadata": {
        "id": "_aTb1SdkLeT6"
      },
      "execution_count": 50,
      "outputs": []
    },
    {
      "cell_type": "code",
      "source": [
        "data_de_hoje = date.today().strftime(\"%d/%m/%Y\")\n",
        "\n",
        "print(\"🚀 Iniciando o Sistema de Criação de Posts para Instagram com 4 Agentes 🚀\")\n",
        "\n",
        "# --- Obter o Tópico do Usuário ---\n",
        "topico = input(\"❓ Por favor, digite o TÓPICO sobre o qual você quer criar o post de tendências: \")\n",
        "\n",
        "# Inserir lógica do sistema de agentes ################################################\n",
        "\n",
        "if not topico:\n",
        "  print (\"Você não digitou um tópico\")\n",
        "else:\n",
        "  print(\"Maravilha! Então vamos criar o post sobre em {topico}\")\n",
        "\n",
        "  lancamentos_buscados = agente_buscador(topico, data_de_hoje)\n",
        "  print(\"\\n--- 📝 Resultado do Agente 1 (Buscador) ---\\n\")\n",
        "  display(to_markdown(lancamentos_buscados))\n",
        "  print(\"--------------------------------------------------------------\")\n",
        "\n",
        "  plano_de_post = agente_planejador(topico, lancamentos_buscados)\n",
        "  print(\"\\n--- 📝 Resultado do Agente 2 (Planejador) ---\\n\")\n",
        "  display(to_markdown(plano_de_post))\n",
        "  print(\"--------------------------------------------------------------\")\n",
        "\n",
        "  rascunho_de_post = agente_redator(topico, plano_de_post)\n",
        "  print(\"\\n--- 📝 Resultado do Agente 3 (Redator) ---\\n\")\n",
        "  display(to_markdown(rascunho_de_post))\n",
        "  print(\"--------------------------------------------------------------\")\n",
        "\n",
        "  post_final = agente_revisor(topico, rascunho_de_post)\n",
        "  print(\"\\n--- 📝 Resultado do Agente 4 (Revisor) ---\\n\")\n",
        "  display(to_markdown(post_final))\n",
        "  print(\"--------------------------------------------------------------\")\n"
      ],
      "metadata": {
        "id": "630ummxz4myx",
        "colab": {
          "base_uri": "https://localhost:8080/",
          "height": 1000
        },
        "outputId": "f000b469-6526-4d0e-c5e9-3947453f655d"
      },
      "execution_count": 51,
      "outputs": [
        {
          "output_type": "stream",
          "name": "stdout",
          "text": [
            "🚀 Iniciando o Sistema de Criação de Posts para Instagram com 4 Agentes 🚀\n",
            "❓ Por favor, digite o TÓPICO sobre o qual você quer criar o post de tendências: inss\n",
            "Maravilha! Então vamos criar o post sobre em {topico}\n",
            "\n",
            "--- 📝 Resultado do Agente 1 (Buscador) ---\n",
            "\n"
          ]
        },
        {
          "output_type": "display_data",
          "data": {
            "text/plain": [
              "<IPython.core.display.Markdown object>"
            ],
            "text/markdown": "> Para encontrar os lançamentos mais recentes e relevantes sobre o INSS, aqui estão algumas perguntas que podem ajudar na busca:\n> \n> \n> Com base nas notícias mais recentes sobre o INSS, aqui estão os 5 lançamentos mais relevantes para maio de 2025:\n> \n> 1.  **Reajuste dos Benefícios do INSS em 2025:** Os segurados do INSS que recebem acima de um salário mínimo tiveram um reajuste de 4,77% a partir de janeiro de 2025. Esse reajuste corresponde ao Índice Nacional de Preços ao Consumidor (INPC) de 2024. O teto dos benefícios previdenciários aumentou para R$ 8.157,41. Para quem recebe salário mínimo, o reajuste foi de 7,5%, elevando o valor para R$ 1.518,00.\n> 2.  **Calendário de Pagamentos do INSS:** O INSS divulgou o calendário de pagamentos para 2025. Em maio de 2025, os pagamentos serão realizados de 26 de maio a 6 de junho. Os pagamentos são feitos de forma escalonada, com prioridade para quem recebe até um salário mínimo.\n> 3.  **Antecipação do 13º Salário:** Aposentados e pensionistas do INSS receberão a segunda parcela do 13º salário a partir de 26 de maio, juntamente com o benefício regular. O pagamento da segunda parcela do 13º salário será efetuado entre 26 de maio e 6 de junho, conforme o número final do cartão de benefício.\n> 4.  **Novas Regras de Aposentadoria:** Em 2025, haverá um ajuste na idade para pedir aposentadoria devido às regras de transição da Reforma da Previdência. Para mulheres, a idade mínima será de 59 anos, com 30 anos de contribuição, e para homens, 64 anos, com 35 anos de contribuição.\n> 5.  **Ressarcimento de Descontos Indevidos:** O INSS começou a ressarcir aposentados e pensionistas afetados por descontos associativos indevidos a partir de 26 de maio. O valor total a ser devolvido é de R$ 292.699.250,33, referente às mensalidades descontadas em abril. Os segurados podem consultar informações sobre os descontos e valores no aplicativo Meu INSS.\n> \n"
          },
          "metadata": {}
        },
        {
          "output_type": "stream",
          "name": "stdout",
          "text": [
            "--------------------------------------------------------------\n",
            "\n",
            "--- 📝 Resultado do Agente 2 (Planejador) ---\n",
            "\n"
          ]
        },
        {
          "output_type": "display_data",
          "data": {
            "text/plain": [
              "<IPython.core.display.Markdown object>"
            ],
            "text/markdown": "> Okay, com base nos lançamentos mais recentes sobre o INSS para maio de 2025, vou criar um plano de conteúdo para cada um deles, identificando os pontos mais relevantes e buscando informações adicionais para aprofundar os temas. Em seguida, escolherei o tema mais relevante e detalharei um plano para um post.\n> \n> **1. Reajuste dos Benefícios do INSS em 2025:**\n> \n> *   **Pontos Relevantes:**\n>     *   Percentual de reajuste para quem recebe acima do salário mínimo (4,77%).\n>     *   Percentual de reajuste para quem recebe o salário mínimo (7,5%).\n>     *   Novo valor do salário mínimo (R$ 1.518,00).\n>     *   Novo teto dos benefícios previdenciários (R$ 8.157,41).\n>     *   Correspondência do reajuste com o INPC de 2024.\n> *   **Informações Adicionais a Buscar:**\n>     *   Impacto do reajuste na vida dos beneficiários.\n>     *   Comparativo com a inflação e o custo de vida.\n>     *   Como o reajuste é calculado.\n>     *   Tabela detalhada com os novos valores dos benefícios.\n> \n> **2. Calendário de Pagamentos do INSS:**\n> \n> *   **Pontos Relevantes:**\n>     *   Datas de pagamento para maio de 2025 (26 de maio a 6 de junho).\n>     *   Escalonamento dos pagamentos conforme o valor do benefício.\n>     *   Prioridade para quem recebe até um salário mínimo.\n> *   **Informações Adicionais a Buscar:**\n>     *   Calendário completo de pagamentos para todo o ano de 2025.\n>     *   Como consultar a data de pagamento específica no site ou app Meu INSS.\n>     *   Informações sobre canais de recebimento do benefício.\n> \n> **3. Antecipação do 13º Salário:**\n> \n> *   **Pontos Relevantes:**\n>     *   Pagamento da segunda parcela do 13º salário a partir de 26 de maio.\n>     *   Quem tem direito ao 13º salário (aposentados e pensionistas).\n>     *   Datas de pagamento da segunda parcela (26 de maio a 6 de junho).\n> *   **Informações Adicionais a Buscar:**\n>     *   Como o valor do 13º salário é calculado.\n>     *   Imposto de Renda sobre o 13º salário.\n>     *   Impacto econômico da antecipação do 13º salário.\n>     *   Como o pagamento é realizado, incluindo detalhes sobre o número final do cartão de benefício e o escalonamento.\n> \n> **4. Novas Regras de Aposentadoria:**\n> \n> *   **Pontos Relevantes:**\n>     *   Ajuste na idade mínima para aposentadoria em 2025.\n>     *   Idade mínima para mulheres (59 anos) e tempo de contribuição (30 anos).\n>     *   Idade mínima para homens (64 anos) e tempo de contribuição (35 anos).\n>     *   Regras de transição da Reforma da Previdência.\n> *   **Informações Adicionais a Buscar:**\n>     *   Detalhes sobre as diferentes regras de transição.\n>     *   Simulador de aposentadoria para calcular o tempo restante.\n>     *   Impacto das novas regras na vida dos trabalhadores.\n>     *   Como planejar a aposentadoria com as novas regras.\n> \n> **5. Ressarcimento de Descontos Indevidos:**\n> \n> *   **Pontos Relevantes:**\n>     *   INSS começou a ressarcir descontos indevidos a partir de 26 de maio.\n>     *   Valor total a ser devolvido (R$ 292.699.250,33).\n>     *   Referência aos descontos de abril.\n>     *   Como consultar informações sobre os descontos no app Meu INSS.\n> *   **Informações Adicionais a Buscar:**\n>     *   Quem tem direito ao ressarcimento.\n>     *   Como verificar se você tem direito ao ressarcimento.\n>     *   Prazos para o ressarcimento.\n>     *   O que fazer se você não receber o ressarcimento.\n>     *   Canais de atendimento para dúvidas e reclamações.\n>     *   Quais foram as associações responsáveis pelos descontos indevidos.\n>     *   Como evitar cair em golpes relacionados a descontos indevidos.\n> \n> Agora, vamos buscar mais informações sobre esses temas usando a ferramenta de busca do Google:\n> \n> Após analisar os lançamentos e as informações adicionais buscadas, o tema mais relevante para um post no momento é o **Ressarcimento de Descontos Indevidos**. A grande procura por informações sobre o tema e o alto número de queixas demonstram a urgência e o impacto dessa questão na vida dos segurados.\n> \n> **Tema:** Ressarcimento de Descontos Indevidos do INSS em 2025\n> \n> **Pontos Relevantes:**\n> \n> *   **O que são os descontos indevidos:** Cobranças realizadas por associações e entidades sem a autorização do beneficiário.\n> *   **Quem tem direito ao ressarcimento:** Aposentados e pensionistas do INSS que identificarem descontos não autorizados em seus benefícios.\n> *   **Valor total a ser devolvido:** R$ 292.699.250,33.\n> *   **Como verificar se você tem direito:** Consultar o extrato no aplicativo Meu INSS ou ligar para a Central 135.\n> *   **Prazos para o ressarcimento:** Os ressarcimentos iniciais serão efetuados entre 26 de maio e 6 de junho, referentes aos descontos de abril.\n> *   **O que fazer se você não receber o ressarcimento:** Registrar reclamação na ouvidoria do INSS e no Procon.\n> *   **Golpes:** Alerta sobre golpes relacionados ao ressarcimento e a importância de não fornecer dados bancários por telefone ou WhatsApp.\n> *   **O que acontece se a associação não pagar:** O caso será encaminhado à Advocacia Geral da União (AGU).\n> \n> **Plano de Conteúdo para o Post:**\n> \n> 1.  **Título:** INSS Devolve Dinheiro: Descubra se Você Tem Direito ao Ressarcimento de Descontos Indevidos!\n> \n> 2.  **Introdução:**\n>     *   Contextualizar a situação dos descontos indevidos e a Operação Sem Desconto.\n>     *   Informar sobre o início do ressarcimento pelo INSS.\n>     *   Destacar a importância de verificar o extrato e reivindicar o ressarcimento.\n> \n> 3.  **O Que São Descontos Indevidos?**\n>     *   Explicar detalhadamente o que são os descontos indevidos e como eles ocorrem.\n>     *   Mencionar as associações e entidades envolvidas.\n> \n> 4.  **Quem Tem Direito ao Ressarcimento?**\n>     *   Especificar quem tem direito ao ressarcimento e como identificar se você é elegível.\n>     *   Informar sobre a devolução para herdeiros de segurados falecidos.\n> \n> 5.  **Como Verificar Se Você Tem Direito ao Ressarcimento?**\n>     *   Passo a passo detalhado de como consultar o extrato no aplicativo Meu INSS.\n>     *   Instruções sobre como entrar em contato com a Central 135.\n> \n> 6.  **Prazos e Como Receber o Ressarcimento:**\n>     *   Informar sobre o calendário de pagamentos e os prazos para o ressarcimento.\n>     *   Esclarecer como o valor será devolvido (depósito na conta bancária).\n>     *   O que fazer caso o valor não seja ressarcido no prazo.\n> \n> 7.  **Alerta de Golpes:**\n>     *   Reforçar os cuidados para evitar golpes relacionados ao ressarcimento.\n>     *   Orientar a nunca fornecer dados bancários por telefone ou WhatsApp.\n> \n> 8.  **O Que Fazer Se Você Não Receber o Ressarcimento?**\n>     *   Instruções sobre como registrar reclamação na ouvidoria do INSS e no Procon.\n>     *   Informar sobre a possibilidade de buscar auxílio jurídico.\n> \n> 9.  **Conclusão:**\n>     *   Reafirmar a importância de verificar o extrato e reivindicar seus direitos.\n>     *   Incentivar o compartilhamento da informação para que mais pessoas tenham acesso.\n>     *   Ressaltar que o INSS está tomando medidas para combater os descontos indevidos.\n> \n> Este plano de conteúdo visa fornecer informações claras e acessíveis para que os segurados do INSS possam verificar se têm direito ao ressarcimento de descontos indevidos e como proceder para garantir seus direitos.\n> \n"
          },
          "metadata": {}
        },
        {
          "output_type": "stream",
          "name": "stdout",
          "text": [
            "--------------------------------------------------------------\n",
            "\n",
            "--- 📝 Resultado do Agente 3 (Redator) ---\n",
            "\n"
          ]
        },
        {
          "output_type": "display_data",
          "data": {
            "text/plain": [
              "<IPython.core.display.Markdown object>"
            ],
            "text/markdown": "> 🚨 ALERTA INSS: Dinheiro EXTRA na sua conta? 🚨\n> \n> Sabia que o INSS está devolvendo grana de descontos indevidos? 💰 Se você é aposentado ou pensionista, pode ter direito a essa grana!\n> \n> 🔍 **O que rolou?** Algumas associações fizeram cobranças sem autorização e, agora, a grana tá voltando pra você!\n> \n> 🤔 **Como saber se tenho direito?** É fácil!\n> 1️⃣ Acesse o app Meu INSS\n> 2️⃣ Consulte seu extrato e veja se tem algum desconto estranho\n> 3️⃣ Se tiver, corra atrás do seu ressarcimento!\n> \n> 🗓️ **Quando recebo?** Fique de olho! Os pagamentos já começaram, mas se não receber, não se desespere! Reclame na ouvidoria do INSS e no Procon.\n> \n> ⚠️ **Cuidado com golpes!** ⚠️ NUNCA forneça seus dados bancários por telefone ou WhatsApp. O INSS não pede essas informações!\n> \n> Marque um amigo aposentado pra ficar ligado nessa novidade! 😉\n> \n> #INSS #Ressarcimento #SeusDireitos #Alura\n> \n"
          },
          "metadata": {}
        },
        {
          "output_type": "stream",
          "name": "stdout",
          "text": [
            "--------------------------------------------------------------\n",
            "\n",
            "--- 📝 Resultado do Agente 4 (Revisor) ---\n",
            "\n"
          ]
        },
        {
          "output_type": "display_data",
          "data": {
            "text/plain": [
              "<IPython.core.display.Markdown object>"
            ],
            "text/markdown": "> O rascunho está ótimo e pronto para publicar!\n> \n"
          },
          "metadata": {}
        },
        {
          "output_type": "stream",
          "name": "stdout",
          "text": [
            "--------------------------------------------------------------\n"
          ]
        }
      ]
    }
  ]
}